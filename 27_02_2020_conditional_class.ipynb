{
 "cells": [
  {
   "cell_type": "code",
   "execution_count": 4,
   "metadata": {},
   "outputs": [
    {
     "name": "stdout",
     "output_type": "stream",
     "text": [
      "if statement got triggered\n"
     ]
    }
   ],
   "source": [
    "age = 40\n",
    "if age<25:\n",
    "    print(\"if condition\")\n",
    "print(\"if statement got triggered\")"
   ]
  },
  {
   "cell_type": "code",
   "execution_count": 5,
   "metadata": {},
   "outputs": [
    {
     "name": "stdout",
     "output_type": "stream",
     "text": [
      "if condition\n",
      "if statement got triggered\n"
     ]
    }
   ],
   "source": [
    "age = 20\n",
    "if age<25:\n",
    "    print(\"if condition\")\n",
    "print(\"if statement got triggered\")"
   ]
  },
  {
   "cell_type": "code",
   "execution_count": 11,
   "metadata": {},
   "outputs": [
    {
     "name": "stdout",
     "output_type": "stream",
     "text": [
      "enter the age\n",
      "50\n",
      "if statement are triggered\n"
     ]
    }
   ],
   "source": [
    "age = int(input(\"enter the age\\n\"))\n",
    "if age<45:\n",
    "    print(str(input(\"enter the out put\")))\n",
    "print(\"if statement are triggered\")"
   ]
  },
  {
   "cell_type": "code",
   "execution_count": 91,
   "metadata": {},
   "outputs": [
    {
     "name": "stdout",
     "output_type": "stream",
     "text": [
      "enter the age\n",
      "12\n",
      "enter the out put \thello\n",
      "hello\n",
      "if statement are triggered\n"
     ]
    }
   ],
   "source": [
    "age = int(input(\"enter the age\\n\"))\n",
    "if age<45:\n",
    "    print(str(input(\"enter the out put \\t\")))\n",
    "print(\"if statement are triggered\")"
   ]
  },
  {
   "cell_type": "code",
   "execution_count": 15,
   "metadata": {},
   "outputs": [
    {
     "name": "stdout",
     "output_type": "stream",
     "text": [
      "false\n"
     ]
    }
   ],
   "source": [
    "age = 30\n",
    "if age<20:\n",
    "    print(\"true\")\n",
    "else:\n",
    "    print(\"false\")"
   ]
  },
  {
   "cell_type": "code",
   "execution_count": 16,
   "metadata": {},
   "outputs": [
    {
     "name": "stdout",
     "output_type": "stream",
     "text": [
      "enter the data ---- \n",
      " 15\n",
      "true\n"
     ]
    }
   ],
   "source": [
    "age = int(input(\"enter the data ---- \\n \"))\n",
    "if age<20:\n",
    "    print(\"true\")\n",
    "else:\n",
    "    print(\"false\")"
   ]
  },
  {
   "cell_type": "code",
   "execution_count": 18,
   "metadata": {},
   "outputs": [
    {
     "name": "stdout",
     "output_type": "stream",
     "text": [
      "enter the data ---- \n",
      " 12\n",
      "minor\n"
     ]
    }
   ],
   "source": [
    "age = int(input(\"enter the data ---- \\n \"))\n",
    "if age<18:\n",
    "    print(\"minor\")\n",
    "else:\n",
    "    print(\"major\")"
   ]
  },
  {
   "cell_type": "code",
   "execution_count": 97,
   "metadata": {},
   "outputs": [
    {
     "name": "stdout",
     "output_type": "stream",
     "text": [
      "input values2\n"
     ]
    }
   ],
   "source": [
    "age = float(input(\"input values\"))"
   ]
  },
  {
   "cell_type": "code",
   "execution_count": 20,
   "metadata": {},
   "outputs": [
    {
     "name": "stdout",
     "output_type": "stream",
     "text": [
      "input valuessdfsdaklfneg\n"
     ]
    }
   ],
   "source": [
    "age = input(\"input values\")"
   ]
  },
  {
   "cell_type": "code",
   "execution_count": 21,
   "metadata": {},
   "outputs": [
    {
     "name": "stdout",
     "output_type": "stream",
     "text": [
      "enter the data ---- \n",
      " 13\n",
      "enter a value for differenciating minor and major18\n",
      "minor --- minor\n",
      "minor\n"
     ]
    }
   ],
   "source": [
    "age = int(input(\"enter the data ---- \\n \"))\n",
    "if age<int(input(\"enter a value for differenciating minor and major\")):\n",
    "    print(str(input(\"minor --- \")))\n",
    "else:\n",
    "    print(str(input(\"major --- \")))"
   ]
  },
  {
   "cell_type": "code",
   "execution_count": 22,
   "metadata": {},
   "outputs": [
    {
     "name": "stdout",
     "output_type": "stream",
     "text": [
      "enter the data ---- \n",
      " 34\n",
      "enter a value for differenciating minor and major18\n",
      "major --- major\n",
      "major\n"
     ]
    }
   ],
   "source": [
    "age = int(input(\"enter the data ---- \\n \"))\n",
    "if age<int(input(\"enter a value for differenciating minor and major\")):\n",
    "    print(str(input(\"minor --- \")))\n",
    "else:\n",
    "    print(str(input(\"major --- \")))"
   ]
  },
  {
   "cell_type": "code",
   "execution_count": 23,
   "metadata": {},
   "outputs": [
    {
     "name": "stdout",
     "output_type": "stream",
     "text": [
      "enter the data ---- \n",
      " 1.2.3\n"
     ]
    },
    {
     "ename": "ValueError",
     "evalue": "invalid literal for int() with base 10: '1.2.3'",
     "output_type": "error",
     "traceback": [
      "\u001b[1;31m---------------------------------------------------------------------------\u001b[0m",
      "\u001b[1;31mValueError\u001b[0m                                Traceback (most recent call last)",
      "\u001b[1;32m<ipython-input-23-c255c45c2af7>\u001b[0m in \u001b[0;36m<module>\u001b[1;34m()\u001b[0m\n\u001b[1;32m----> 1\u001b[1;33m \u001b[0mage\u001b[0m \u001b[1;33m=\u001b[0m \u001b[0mint\u001b[0m\u001b[1;33m(\u001b[0m\u001b[0minput\u001b[0m\u001b[1;33m(\u001b[0m\u001b[1;34m\"enter the data ---- \\n \"\u001b[0m\u001b[1;33m)\u001b[0m\u001b[1;33m)\u001b[0m\u001b[1;33m\u001b[0m\u001b[0m\n\u001b[0m\u001b[0;32m      2\u001b[0m \u001b[1;32mif\u001b[0m \u001b[0mage\u001b[0m\u001b[1;33m<\u001b[0m\u001b[0mint\u001b[0m\u001b[1;33m(\u001b[0m\u001b[0minput\u001b[0m\u001b[1;33m(\u001b[0m\u001b[1;34m\"enter a value for differenciating minor and major\"\u001b[0m\u001b[1;33m)\u001b[0m\u001b[1;33m)\u001b[0m\u001b[1;33m:\u001b[0m\u001b[1;33m\u001b[0m\u001b[0m\n\u001b[0;32m      3\u001b[0m     \u001b[0mprint\u001b[0m\u001b[1;33m(\u001b[0m\u001b[0mstr\u001b[0m\u001b[1;33m(\u001b[0m\u001b[0minput\u001b[0m\u001b[1;33m(\u001b[0m\u001b[1;34m\"minor --- \"\u001b[0m\u001b[1;33m)\u001b[0m\u001b[1;33m)\u001b[0m\u001b[1;33m)\u001b[0m\u001b[1;33m\u001b[0m\u001b[0m\n\u001b[0;32m      4\u001b[0m \u001b[1;32melse\u001b[0m\u001b[1;33m:\u001b[0m\u001b[1;33m\u001b[0m\u001b[0m\n\u001b[0;32m      5\u001b[0m     \u001b[0mprint\u001b[0m\u001b[1;33m(\u001b[0m\u001b[0mstr\u001b[0m\u001b[1;33m(\u001b[0m\u001b[0minput\u001b[0m\u001b[1;33m(\u001b[0m\u001b[1;34m\"major --- \"\u001b[0m\u001b[1;33m)\u001b[0m\u001b[1;33m)\u001b[0m\u001b[1;33m)\u001b[0m\u001b[1;33m\u001b[0m\u001b[0m\n",
      "\u001b[1;31mValueError\u001b[0m: invalid literal for int() with base 10: '1.2.3'"
     ]
    }
   ],
   "source": [
    "age = int(input(\"enter the data ---- \\n \"))\n",
    "if age<int(input(\"enter a value for differenciating minor and major\")):\n",
    "    print(str(input(\"minor --- \")))\n",
    "else:\n",
    "    print(str(input(\"major --- \")))"
   ]
  },
  {
   "cell_type": "code",
   "execution_count": 24,
   "metadata": {},
   "outputs": [
    {
     "name": "stdout",
     "output_type": "stream",
     "text": [
      "enter the data ---- \n",
      " 1.2\n"
     ]
    },
    {
     "ename": "ValueError",
     "evalue": "invalid literal for int() with base 10: '1.2'",
     "output_type": "error",
     "traceback": [
      "\u001b[1;31m---------------------------------------------------------------------------\u001b[0m",
      "\u001b[1;31mValueError\u001b[0m                                Traceback (most recent call last)",
      "\u001b[1;32m<ipython-input-24-c255c45c2af7>\u001b[0m in \u001b[0;36m<module>\u001b[1;34m()\u001b[0m\n\u001b[1;32m----> 1\u001b[1;33m \u001b[0mage\u001b[0m \u001b[1;33m=\u001b[0m \u001b[0mint\u001b[0m\u001b[1;33m(\u001b[0m\u001b[0minput\u001b[0m\u001b[1;33m(\u001b[0m\u001b[1;34m\"enter the data ---- \\n \"\u001b[0m\u001b[1;33m)\u001b[0m\u001b[1;33m)\u001b[0m\u001b[1;33m\u001b[0m\u001b[0m\n\u001b[0m\u001b[0;32m      2\u001b[0m \u001b[1;32mif\u001b[0m \u001b[0mage\u001b[0m\u001b[1;33m<\u001b[0m\u001b[0mint\u001b[0m\u001b[1;33m(\u001b[0m\u001b[0minput\u001b[0m\u001b[1;33m(\u001b[0m\u001b[1;34m\"enter a value for differenciating minor and major\"\u001b[0m\u001b[1;33m)\u001b[0m\u001b[1;33m)\u001b[0m\u001b[1;33m:\u001b[0m\u001b[1;33m\u001b[0m\u001b[0m\n\u001b[0;32m      3\u001b[0m     \u001b[0mprint\u001b[0m\u001b[1;33m(\u001b[0m\u001b[0mstr\u001b[0m\u001b[1;33m(\u001b[0m\u001b[0minput\u001b[0m\u001b[1;33m(\u001b[0m\u001b[1;34m\"minor --- \"\u001b[0m\u001b[1;33m)\u001b[0m\u001b[1;33m)\u001b[0m\u001b[1;33m)\u001b[0m\u001b[1;33m\u001b[0m\u001b[0m\n\u001b[0;32m      4\u001b[0m \u001b[1;32melse\u001b[0m\u001b[1;33m:\u001b[0m\u001b[1;33m\u001b[0m\u001b[0m\n\u001b[0;32m      5\u001b[0m     \u001b[0mprint\u001b[0m\u001b[1;33m(\u001b[0m\u001b[0mstr\u001b[0m\u001b[1;33m(\u001b[0m\u001b[0minput\u001b[0m\u001b[1;33m(\u001b[0m\u001b[1;34m\"major --- \"\u001b[0m\u001b[1;33m)\u001b[0m\u001b[1;33m)\u001b[0m\u001b[1;33m)\u001b[0m\u001b[1;33m\u001b[0m\u001b[0m\n",
      "\u001b[1;31mValueError\u001b[0m: invalid literal for int() with base 10: '1.2'"
     ]
    }
   ],
   "source": [
    "age = int(input(\"enter the data ---- \\n \"))\n",
    "if age<int(input(\"enter a value for differenciating minor and major\")):\n",
    "    print(str(input(\"minor --- \")))\n",
    "else:\n",
    "    print(str(input(\"major --- \")))"
   ]
  },
  {
   "cell_type": "code",
   "execution_count": 25,
   "metadata": {},
   "outputs": [
    {
     "name": "stdout",
     "output_type": "stream",
     "text": [
      "enter the data ---- \n",
      " 1\n",
      "enter a value for differenciating minor and major18\n",
      "minor --- chaild\n",
      "chaild\n"
     ]
    }
   ],
   "source": [
    "age = float(input(\"enter the data ---- \\n \"))\n",
    "if age<int(input(\"enter a value for differenciating minor and major\")):\n",
    "    print(str(input(\"minor --- \")))\n",
    "else:\n",
    "    print(str(input(\"major --- \")))"
   ]
  },
  {
   "cell_type": "code",
   "execution_count": 26,
   "metadata": {},
   "outputs": [
    {
     "name": "stdout",
     "output_type": "stream",
     "text": [
      "Integere13\n"
     ]
    },
    {
     "data": {
      "text/plain": [
       "13"
      ]
     },
     "execution_count": 26,
     "metadata": {},
     "output_type": "execute_result"
    }
   ],
   "source": [
    "int(input(\"Integere\"))"
   ]
  },
  {
   "cell_type": "code",
   "execution_count": 27,
   "metadata": {},
   "outputs": [
    {
     "name": "stdout",
     "output_type": "stream",
     "text": [
      "Stringhello\n"
     ]
    },
    {
     "data": {
      "text/plain": [
       "'hello'"
      ]
     },
     "execution_count": 27,
     "metadata": {},
     "output_type": "execute_result"
    }
   ],
   "source": [
    "str(input(\"String\"))"
   ]
  },
  {
   "cell_type": "code",
   "execution_count": 28,
   "metadata": {},
   "outputs": [
    {
     "name": "stdout",
     "output_type": "stream",
     "text": [
      "Integere1\n"
     ]
    }
   ],
   "source": [
    "age = int(input(\"Integere\"))"
   ]
  },
  {
   "cell_type": "code",
   "execution_count": 29,
   "metadata": {},
   "outputs": [
    {
     "name": "stdout",
     "output_type": "stream",
     "text": [
      "Stringsdfg\n"
     ]
    }
   ],
   "source": [
    "str1 = str(input(\"String\"))"
   ]
  },
  {
   "cell_type": "code",
   "execution_count": 98,
   "metadata": {},
   "outputs": [
    {
     "ename": "SyntaxError",
     "evalue": "invalid syntax (<ipython-input-98-e3d411b3710a>, line 4)",
     "output_type": "error",
     "traceback": [
      "\u001b[1;36m  File \u001b[1;32m\"<ipython-input-98-e3d411b3710a>\"\u001b[1;36m, line \u001b[1;32m4\u001b[0m\n\u001b[1;33m    elif marks<50 && marks>35:\u001b[0m\n\u001b[1;37m                   ^\u001b[0m\n\u001b[1;31mSyntaxError\u001b[0m\u001b[1;31m:\u001b[0m invalid syntax\n"
     ]
    }
   ],
   "source": [
    "marks = int(input(\"enter marks\"))\n",
    "if marks<35:\n",
    "    print(\"fail\")\n",
    "elif marks<50 && marks>35:\n",
    "    print(\"3rd class\")\n",
    "elif marks<70 && marks>50:\n",
    "    print(\"2nd class\")\n",
    "elif marks>70 && marks<=100:\n",
    "    print(\"1st class\")\n",
    "else:\n",
    "    print(\"error in marks\")"
   ]
  },
  {
   "cell_type": "code",
   "execution_count": 38,
   "metadata": {},
   "outputs": [
    {
     "name": "stdout",
     "output_type": "stream",
     "text": [
      "enter marks45\n",
      "3rd class\n"
     ]
    }
   ],
   "source": [
    "marks = int(input(\"enter marks\"))\n",
    "if marks<35:\n",
    "    print(\"fail\")\n",
    "elif marks<50 and marks>35:\n",
    "    print(\"3rd class\")\n",
    "elif marks<70 and marks>50:\n",
    "    print(\"2nd class\")\n",
    "elif marks>70 and marks<=100:\n",
    "    print(\"1st class\")\n",
    "else:\n",
    "    print(\"error in marks\")"
   ]
  },
  {
   "cell_type": "code",
   "execution_count": 44,
   "metadata": {},
   "outputs": [
    {
     "name": "stdout",
     "output_type": "stream",
     "text": [
      "enter marks99\n",
      "enter locationBangalore\n",
      "error in marks\n"
     ]
    }
   ],
   "source": [
    "marks = int(input(\"enter marks\"))\n",
    "location = str(input(\"enter location\"))\n",
    "if marks<35 and location == \"Bangalore\":\n",
    "    print(\"fail\" + location )\n",
    "elif (marks<50 and marks>35) or location == \"Hyderabad\" :\n",
    "    print(\"3rd class\" + location)\n",
    "elif (marks<70 and marks>50) or location == \"Pune\" :\n",
    "    print(\"2nd class\" + location)\n",
    "elif (marks>70 and marks<=100) and location == \"Delhi\":\n",
    "    print(\"1st class\" + location)\n",
    "else:\n",
    "    print(\"error in marks\")"
   ]
  },
  {
   "cell_type": "code",
   "execution_count": 100,
   "metadata": {},
   "outputs": [
    {
     "name": "stdout",
     "output_type": "stream",
     "text": [
      "enter age\n",
      "12\n",
      "group1\n",
      "group2\n",
      "group3\n"
     ]
    }
   ],
   "source": [
    "age = int(input(\"enter age\\n\"))\n",
    "if age<60:\n",
    "    print(\"group1\")\n",
    "    if age<40:\n",
    "        print(\"group2\")\n",
    "        if age<20:\n",
    "            print(\"group3\")\n",
    "        else:\n",
    "            print(\"not group3\")\n",
    "    else:\n",
    "        print(\"not group2\")\n",
    "else:\n",
    "    print(\"not group2\")"
   ]
  },
  {
   "cell_type": "code",
   "execution_count": 47,
   "metadata": {},
   "outputs": [
    {
     "data": {
      "text/plain": [
       "range(1, 10)"
      ]
     },
     "execution_count": 47,
     "metadata": {},
     "output_type": "execute_result"
    }
   ],
   "source": [
    "range(1,10)"
   ]
  },
  {
   "cell_type": "code",
   "execution_count": 48,
   "metadata": {},
   "outputs": [
    {
     "data": {
      "text/plain": [
       "[1, 2, 3, 4, 5, 6, 7, 8, 9, 10, 11, 12, 13, 14, 15, 16, 17, 18, 19]"
      ]
     },
     "execution_count": 48,
     "metadata": {},
     "output_type": "execute_result"
    }
   ],
   "source": [
    "list(range(1,20))"
   ]
  },
  {
   "cell_type": "code",
   "execution_count": 49,
   "metadata": {},
   "outputs": [
    {
     "data": {
      "text/plain": [
       "[1, 3, 5, 7, 9, 11, 13, 15, 17, 19]"
      ]
     },
     "execution_count": 49,
     "metadata": {},
     "output_type": "execute_result"
    }
   ],
   "source": [
    "list(range(1,20,2))"
   ]
  },
  {
   "cell_type": "code",
   "execution_count": 50,
   "metadata": {},
   "outputs": [
    {
     "name": "stdout",
     "output_type": "stream",
     "text": [
      "each iteration 1\n",
      "each iteration 2\n",
      "each iteration 3\n",
      "each iteration 4\n",
      "each iteration 5\n",
      "each iteration 6\n",
      "each iteration 7\n",
      "each iteration 8\n",
      "each iteration 9\n"
     ]
    }
   ],
   "source": [
    "for i in range(1,10):\n",
    "    print(\"each iteration\", i)"
   ]
  },
  {
   "cell_type": "code",
   "execution_count": 51,
   "metadata": {},
   "outputs": [
    {
     "name": "stdout",
     "output_type": "stream",
     "text": [
      "each iteration 1 values are 1\n",
      "each iteration 2 values are 3\n",
      "each iteration 3 values are 6\n",
      "each iteration 4 values are 10\n",
      "each iteration 5 values are 15\n",
      "each iteration 6 values are 21\n",
      "each iteration 7 values are 28\n",
      "each iteration 8 values are 36\n",
      "each iteration 9 values are 45\n"
     ]
    }
   ],
   "source": [
    "sumx = 0\n",
    "for i in range(1,10):\n",
    "    sumx = sumx+i;\n",
    "    print(\"each iteration\", i , \"values are\", sumx)"
   ]
  },
  {
   "cell_type": "code",
   "execution_count": 52,
   "metadata": {},
   "outputs": [
    {
     "name": "stdout",
     "output_type": "stream",
     "text": [
      "each iteration 1 values are 1\n",
      "each iteration 3 values are 4\n",
      "each iteration 5 values are 9\n",
      "each iteration 7 values are 16\n",
      "each iteration 9 values are 25\n",
      "each iteration 11 values are 36\n",
      "each iteration 13 values are 49\n",
      "each iteration 15 values are 64\n",
      "each iteration 17 values are 81\n",
      "each iteration 19 values are 100\n"
     ]
    }
   ],
   "source": [
    "sumx = 0\n",
    "for i in range(1,20,2):\n",
    "    sumx = sumx+i;\n",
    "    print(\"each iteration\", i , \"values are\", sumx)"
   ]
  },
  {
   "cell_type": "code",
   "execution_count": 53,
   "metadata": {},
   "outputs": [
    {
     "name": "stdout",
     "output_type": "stream",
     "text": [
      "each iteration 1 values are 1\n",
      "each iteration 4 values are 5\n",
      "each iteration 7 values are 12\n",
      "each iteration 10 values are 22\n",
      "each iteration 13 values are 35\n",
      "each iteration 16 values are 51\n",
      "each iteration 19 values are 70\n",
      "each iteration 22 values are 92\n",
      "each iteration 25 values are 117\n",
      "each iteration 28 values are 145\n"
     ]
    }
   ],
   "source": [
    "sumx = 0\n",
    "for i in range(1,30,3):\n",
    "    sumx = sumx+i;\n",
    "    print(\"each iteration\", i , \"values are\", sumx)"
   ]
  },
  {
   "cell_type": "code",
   "execution_count": 58,
   "metadata": {},
   "outputs": [
    {
     "name": "stdout",
     "output_type": "stream",
     "text": [
      "each iteration 1 values are 1\n",
      "each iteration 6 values are 7\n",
      "each iteration 11 values are 18\n",
      "each iteration 16 values are 34\n"
     ]
    }
   ],
   "source": [
    "sumx = 0\n",
    "for i in range(1,30,5):\n",
    "    sumx = sumx+i;\n",
    "    if sumx>40:\n",
    "        break\n",
    "    print(\"each iteration\", i , \"values are\", sumx)"
   ]
  },
  {
   "cell_type": "code",
   "execution_count": 59,
   "metadata": {},
   "outputs": [],
   "source": [
    "sumx = 0\n",
    "for i in range(1,10):\n",
    "    pass"
   ]
  },
  {
   "cell_type": "code",
   "execution_count": 64,
   "metadata": {},
   "outputs": [
    {
     "name": "stdout",
     "output_type": "stream",
     "text": [
      "each iteration 12 values are 12\n",
      "each iteration 23 values are 35\n",
      "each iteration 443 values are 478\n",
      "each iteration 5456 values are 5934\n",
      "each iteration 78 values are 6012\n",
      "each iteration 87 values are 6099\n"
     ]
    }
   ],
   "source": [
    "list1 = [12,23,443,5456,78,87]\n",
    "sumx = 0\n",
    "for i in list1:\n",
    "    sumx = sumx+i\n",
    "    print(\"each iteration\", i , \"values are\", sumx)"
   ]
  },
  {
   "cell_type": "code",
   "execution_count": 65,
   "metadata": {},
   "outputs": [
    {
     "name": "stdout",
     "output_type": "stream",
     "text": [
      "each iteration 12 values are 12\n",
      "each iteration 78 values are 90\n",
      "each iteration 5456 values are 5546\n",
      "each iteration 87 values are 5633\n",
      "each iteration 23 values are 5656\n",
      "each iteration 443 values are 6099\n"
     ]
    }
   ],
   "source": [
    "list1 = {12,23,443,5456,78,87}\n",
    "sumx = 0\n",
    "for i in list1:\n",
    "    sumx = sumx+i\n",
    "    print(\"each iteration\", i , \"values are\", sumx)"
   ]
  },
  {
   "cell_type": "code",
   "execution_count": 70,
   "metadata": {},
   "outputs": [
    {
     "name": "stdout",
     "output_type": "stream",
     "text": [
      "IND\n",
      "AUS\n"
     ]
    }
   ],
   "source": [
    "abc = [\"IND\",\"AUS\",\"SA\",\"NZ\"]\n",
    "for i in abc:\n",
    "    if i==\"AUS\":\n",
    "        print(i)\n",
    "        break\n",
    "    else: \n",
    "         print(i)\n",
    "    "
   ]
  },
  {
   "cell_type": "code",
   "execution_count": 101,
   "metadata": {},
   "outputs": [
    {
     "name": "stdout",
     "output_type": "stream",
     "text": [
      "IND\n",
      "AUS\n",
      "SA\n",
      "NZ\n",
      "Hello\n"
     ]
    }
   ],
   "source": [
    "abc = [\"IND\",\"AUS\",\"SA\",\"NZ\"]\n",
    "for i in abc:\n",
    "    if i==\"IND\":\n",
    "        print(i)\n",
    "        pass\n",
    "    else: \n",
    "         print(i)\n",
    "print(\"Hello\")"
   ]
  },
  {
   "cell_type": "code",
   "execution_count": 81,
   "metadata": {},
   "outputs": [
    {
     "name": "stdout",
     "output_type": "stream",
     "text": [
      "Help on class enumerate in module builtins:\n",
      "\n",
      "class enumerate(object)\n",
      " |  enumerate(iterable[, start]) -> iterator for index, value of iterable\n",
      " |  \n",
      " |  Return an enumerate object.  iterable must be another object that supports\n",
      " |  iteration.  The enumerate object yields pairs containing a count (from\n",
      " |  start, which defaults to zero) and a value yielded by the iterable argument.\n",
      " |  enumerate is useful for obtaining an indexed list:\n",
      " |      (0, seq[0]), (1, seq[1]), (2, seq[2]), ...\n",
      " |  \n",
      " |  Methods defined here:\n",
      " |  \n",
      " |  __getattribute__(self, name, /)\n",
      " |      Return getattr(self, name).\n",
      " |  \n",
      " |  __iter__(self, /)\n",
      " |      Implement iter(self).\n",
      " |  \n",
      " |  __new__(*args, **kwargs) from builtins.type\n",
      " |      Create and return a new object.  See help(type) for accurate signature.\n",
      " |  \n",
      " |  __next__(self, /)\n",
      " |      Implement next(self).\n",
      " |  \n",
      " |  __reduce__(...)\n",
      " |      Return state information for pickling.\n",
      "\n"
     ]
    }
   ],
   "source": [
    "help(enumerate)"
   ]
  },
  {
   "cell_type": "code",
   "execution_count": 82,
   "metadata": {},
   "outputs": [
    {
     "ename": "TypeError",
     "evalue": "enumerate() takes at most 2 arguments (5 given)",
     "output_type": "error",
     "traceback": [
      "\u001b[1;31m---------------------------------------------------------------------------\u001b[0m",
      "\u001b[1;31mTypeError\u001b[0m                                 Traceback (most recent call last)",
      "\u001b[1;32m<ipython-input-82-5375f973346b>\u001b[0m in \u001b[0;36m<module>\u001b[1;34m()\u001b[0m\n\u001b[1;32m----> 1\u001b[1;33m \u001b[0menumerate\u001b[0m\u001b[1;33m(\u001b[0m\u001b[1;36m1\u001b[0m\u001b[1;33m,\u001b[0m\u001b[1;36m2\u001b[0m\u001b[1;33m,\u001b[0m\u001b[1;36m3\u001b[0m\u001b[1;33m,\u001b[0m\u001b[1;36m4\u001b[0m\u001b[1;33m,\u001b[0m\u001b[1;36m5\u001b[0m\u001b[1;33m)\u001b[0m\u001b[1;33m\u001b[0m\u001b[0m\n\u001b[0m",
      "\u001b[1;31mTypeError\u001b[0m: enumerate() takes at most 2 arguments (5 given)"
     ]
    }
   ],
   "source": [
    "enumerate(1,2,3,4,5)"
   ]
  },
  {
   "cell_type": "code",
   "execution_count": 88,
   "metadata": {},
   "outputs": [
    {
     "data": {
      "text/plain": [
       "<enumerate at 0x1c54e0e7090>"
      ]
     },
     "execution_count": 88,
     "metadata": {},
     "output_type": "execute_result"
    }
   ],
   "source": [
    "list1 = [1,2,3,4,5,6]\n",
    "enumerate(list1)"
   ]
  },
  {
   "cell_type": "code",
   "execution_count": 90,
   "metadata": {},
   "outputs": [
    {
     "ename": "TypeError",
     "evalue": "'int' object is not iterable",
     "output_type": "error",
     "traceback": [
      "\u001b[1;31m---------------------------------------------------------------------------\u001b[0m",
      "\u001b[1;31mTypeError\u001b[0m                                 Traceback (most recent call last)",
      "\u001b[1;32m<ipython-input-90-0b929e17714f>\u001b[0m in \u001b[0;36m<module>\u001b[1;34m()\u001b[0m\n\u001b[0;32m      1\u001b[0m \u001b[0mlist1\u001b[0m \u001b[1;33m=\u001b[0m \u001b[1;33m[\u001b[0m\u001b[1;36m1\u001b[0m\u001b[1;33m,\u001b[0m\u001b[1;36m2\u001b[0m\u001b[1;33m,\u001b[0m\u001b[1;36m3\u001b[0m\u001b[1;33m,\u001b[0m\u001b[1;36m4\u001b[0m\u001b[1;33m,\u001b[0m\u001b[1;36m5\u001b[0m\u001b[1;33m,\u001b[0m\u001b[1;36m6\u001b[0m\u001b[1;33m]\u001b[0m\u001b[1;33m\u001b[0m\u001b[0m\n\u001b[1;32m----> 2\u001b[1;33m \u001b[0menumerate\u001b[0m\u001b[1;33m(\u001b[0m\u001b[1;36m1\u001b[0m\u001b[1;33m,\u001b[0m\u001b[0mlist1\u001b[0m\u001b[1;33m[\u001b[0m\u001b[1;36m2\u001b[0m\u001b[1;33m]\u001b[0m\u001b[1;33m)\u001b[0m\u001b[1;33m\u001b[0m\u001b[0m\n\u001b[0m",
      "\u001b[1;31mTypeError\u001b[0m: 'int' object is not iterable"
     ]
    }
   ],
   "source": [
    "list1 = [1,2,3,4,5,6]\n",
    "enumerate(1,list1[2])"
   ]
  },
  {
   "cell_type": "code",
   "execution_count": 102,
   "metadata": {},
   "outputs": [
    {
     "ename": "NameError",
     "evalue": "name 'psumanth1997' is not defined",
     "output_type": "error",
     "traceback": [
      "\u001b[1;31m---------------------------------------------------------------------------\u001b[0m",
      "\u001b[1;31mNameError\u001b[0m                                 Traceback (most recent call last)",
      "\u001b[1;32m<ipython-input-102-c7f7d60dff31>\u001b[0m in \u001b[0;36m<module>\u001b[1;34m()\u001b[0m\n\u001b[1;32m----> 1\u001b[1;33m \u001b[0mpsumanth1997\u001b[0m\u001b[1;33m@\u001b[0m\u001b[0mgmail\u001b[0m\u001b[1;33m.\u001b[0m\u001b[0mcom\u001b[0m\u001b[1;33m\u001b[0m\u001b[0m\n\u001b[0m",
      "\u001b[1;31mNameError\u001b[0m: name 'psumanth1997' is not defined"
     ]
    }
   ],
   "source": [
    "psumanth1997@gmail.com"
   ]
  },
  {
   "cell_type": "markdown",
   "metadata": {},
   "source": [
    "# "
   ]
  }
 ],
 "metadata": {
  "kernelspec": {
   "display_name": "Python 3",
   "language": "python",
   "name": "python3"
  },
  "language_info": {
   "codemirror_mode": {
    "name": "ipython",
    "version": 3
   },
   "file_extension": ".py",
   "mimetype": "text/x-python",
   "name": "python",
   "nbconvert_exporter": "python",
   "pygments_lexer": "ipython3",
   "version": "3.6.4"
  }
 },
 "nbformat": 4,
 "nbformat_minor": 2
}
